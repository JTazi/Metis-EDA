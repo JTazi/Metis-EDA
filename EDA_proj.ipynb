{
 "cells": [
  {
   "cell_type": "markdown",
   "id": "9f85039e",
   "metadata": {},
   "source": [
    "# Station Priority for Infrastructure Bill Funds\n",
    "\n",
    "Using the publicly available MTA Turnstyle data, I will determine which stations receive the most traffic. Using the MTA station maintenance and malfunction logs I will further narrow the list."
   ]
  },
  {
   "cell_type": "code",
   "execution_count": 2,
   "id": "7406a2dc",
   "metadata": {},
   "outputs": [],
   "source": [
    "import pandas as pd\n",
    "import os\n",
    "import datetime as dt\n",
    "from sqlalchemy import create_engine"
   ]
  },
  {
   "cell_type": "code",
   "execution_count": 3,
   "id": "70d8ad75",
   "metadata": {},
   "outputs": [
    {
     "name": "stdout",
     "output_type": "stream",
     "text": [
      "/home/jtaz/Documents/MTA_turnstile/Project\n"
     ]
    }
   ],
   "source": [
    "print(os.getcwd())"
   ]
  },
  {
   "cell_type": "code",
   "execution_count": 4,
   "id": "fabddb67",
   "metadata": {},
   "outputs": [
    {
     "name": "stderr",
     "output_type": "stream",
     "text": [
      "/tmp/ipykernel_2129/823041238.py:4: SADeprecationWarning: The Engine.table_names() method is deprecated and will be removed in a future release.  Please refer to Inspector.get_table_names(). (deprecated since: 1.4)\n",
      "  engine.table_names()\n"
     ]
    },
    {
     "data": {
      "text/plain": [
       "['mta_data']"
      ]
     },
     "execution_count": 4,
     "metadata": {},
     "output_type": "execute_result"
    }
   ],
   "source": [
    "'''engine is the database, url is the rbdmns you are using and 3 slashes for relative file path. this works since\n",
    "file is in the working directory'''\n",
    "engine = create_engine('sqlite:///mta_data.db')\n",
    "engine.table_names()"
   ]
  },
  {
   "cell_type": "code",
   "execution_count": 5,
   "id": "c40c5903",
   "metadata": {},
   "outputs": [],
   "source": [
    "mta_df_v2 = pd.read_sql('SELECT * FROM mta_data;', engine)"
   ]
  },
  {
   "cell_type": "code",
   "execution_count": 6,
   "id": "c977975b",
   "metadata": {},
   "outputs": [
    {
     "name": "stdout",
     "output_type": "stream",
     "text": [
      "<class 'pandas.core.frame.DataFrame'>\n",
      "RangeIndex: 3983186 entries, 0 to 3983185\n",
      "Data columns (total 11 columns):\n",
      " #   Column    Dtype \n",
      "---  ------    ----- \n",
      " 0   C/A       object\n",
      " 1   UNIT      object\n",
      " 2   SCP       object\n",
      " 3   STATION   object\n",
      " 4   LINENAME  object\n",
      " 5   DIVISION  object\n",
      " 6   DATE      object\n",
      " 7   TIME      object\n",
      " 8   DESC      object\n",
      " 9   ENTRIES   int64 \n",
      " 10  EXITS     int64 \n",
      "dtypes: int64(2), object(9)\n",
      "memory usage: 334.3+ MB\n"
     ]
    }
   ],
   "source": [
    "mta_df_v2.info()"
   ]
  },
  {
   "cell_type": "code",
   "execution_count": 7,
   "id": "e8869d53",
   "metadata": {},
   "outputs": [
    {
     "name": "stdout",
     "output_type": "stream",
     "text": [
      "<class 'pandas.core.frame.DataFrame'>\n",
      "RangeIndex: 3983186 entries, 0 to 3983185\n",
      "Data columns (total 11 columns):\n",
      " #   Column    Dtype \n",
      "---  ------    ----- \n",
      " 0   C/A       object\n",
      " 1   UNIT      object\n",
      " 2   SCP       object\n",
      " 3   STATION   object\n",
      " 4   LINENAME  object\n",
      " 5   DIVISION  object\n",
      " 6   DATE      object\n",
      " 7   TIME      object\n",
      " 8   DESC      object\n",
      " 9   ENTRIES   int64 \n",
      " 10  EXITS     int64 \n",
      "dtypes: int64(2), object(9)\n",
      "memory usage: 334.3+ MB\n"
     ]
    },
    {
     "data": {
      "text/plain": [
       "'import .csv and store in dataframe. execute.info to get dtypes, rows, column names, etc'"
      ]
     },
     "execution_count": 7,
     "metadata": {},
     "output_type": "execute_result"
    }
   ],
   "source": [
    "mta_df = mta_df_v2\n",
    "#mta_df = pd.read_csv('mta_datav2.csv')\n",
    "mta_df.info()\n",
    "'''import .csv and store in dataframe. execute.info to get dtypes, rows, column names, etc'''"
   ]
  },
  {
   "cell_type": "code",
   "execution_count": 8,
   "id": "2b68ab7d",
   "metadata": {},
   "outputs": [
    {
     "data": {
      "text/plain": [
       "'.head to see first 5 rows and get a feel for the data'"
      ]
     },
     "execution_count": 8,
     "metadata": {},
     "output_type": "execute_result"
    }
   ],
   "source": [
    "mta_df.head()\n",
    "'''.head to see first 5 rows and get a feel for the data'''"
   ]
  },
  {
   "cell_type": "code",
   "execution_count": 9,
   "id": "d260ba27",
   "metadata": {},
   "outputs": [
    {
     "data": {
      "text/plain": [
       "'check columns for extra spaces or irregularities requiring cleaning or strip'"
      ]
     },
     "execution_count": 9,
     "metadata": {},
     "output_type": "execute_result"
    }
   ],
   "source": [
    "mta_df.columns\n",
    "'''check columns for extra spaces or irregularities requiring cleaning or strip'''"
   ]
  },
  {
   "cell_type": "code",
   "execution_count": 10,
   "id": "eb6b5798",
   "metadata": {},
   "outputs": [
    {
     "data": {
      "text/plain": [
       "C/A                  object\n",
       "UNIT                 object\n",
       "SCP                  object\n",
       "STATION              object\n",
       "LINENAME             object\n",
       "DIVISION             object\n",
       "DATE                 object\n",
       "TIME                 object\n",
       "DESC                 object\n",
       "ENTRIES               int64\n",
       "EXITS                 int64\n",
       "DATE_TIME    datetime64[ns]\n",
       "dtype: object"
      ]
     },
     "execution_count": 10,
     "metadata": {},
     "output_type": "execute_result"
    }
   ],
   "source": [
    "'''create new column \"DATE_TIME\" to store the merging of \"DATE\" and \"TIME\" columns. use to_datetime to\n",
    "convert to datetime dtype.'''\n",
    "mta_df['DATE_TIME'] = pd.to_datetime(mta_df.DATE + ' ' + mta_df.TIME, infer_datetime_format = True)\n",
    "mta_df.dtypes"
   ]
  },
  {
   "cell_type": "code",
   "execution_count": 11,
   "id": "8929c90d",
   "metadata": {},
   "outputs": [
    {
     "data": {
      "text/plain": [
       "Index(['C/A', 'UNIT', 'SCP', 'STATION', 'LINENAME', 'DIVISION', 'DESC',\n",
       "       'ENTRIES', 'EXITS', 'DATE_TIME'],\n",
       "      dtype='object')"
      ]
     },
     "execution_count": 11,
     "metadata": {},
     "output_type": "execute_result"
    }
   ],
   "source": [
    "'''delete DATE and TIME columns since they are no longer needed'''\n",
    "mta_df1 = mta_df\n",
    "mta_df = mta_df.drop(['DATE', 'TIME'], axis = 1)\n",
    "mta_df.columns"
   ]
  },
  {
   "cell_type": "code",
   "execution_count": 12,
   "id": "dee806bf",
   "metadata": {},
   "outputs": [
    {
     "data": {
      "text/html": [
       "<div>\n",
       "<style scoped>\n",
       "    .dataframe tbody tr th:only-of-type {\n",
       "        vertical-align: middle;\n",
       "    }\n",
       "\n",
       "    .dataframe tbody tr th {\n",
       "        vertical-align: top;\n",
       "    }\n",
       "\n",
       "    .dataframe thead th {\n",
       "        text-align: right;\n",
       "    }\n",
       "</style>\n",
       "<table border=\"1\" class=\"dataframe\">\n",
       "  <thead>\n",
       "    <tr style=\"text-align: right;\">\n",
       "      <th></th>\n",
       "      <th>C/A</th>\n",
       "      <th>UNIT</th>\n",
       "      <th>SCP</th>\n",
       "      <th>STATION</th>\n",
       "      <th>DATE_TIME</th>\n",
       "      <th>ENTRIES</th>\n",
       "    </tr>\n",
       "  </thead>\n",
       "  <tbody>\n",
       "    <tr>\n",
       "      <th>3951720</th>\n",
       "      <td>S101</td>\n",
       "      <td>R070</td>\n",
       "      <td>00-00-02</td>\n",
       "      <td>ST. GEORGE</td>\n",
       "      <td>2021-09-29 12:00:00</td>\n",
       "      <td>2</td>\n",
       "    </tr>\n",
       "    <tr>\n",
       "      <th>3582043</th>\n",
       "      <td>R514</td>\n",
       "      <td>R094</td>\n",
       "      <td>00-05-00</td>\n",
       "      <td>ASTORIA BLVD</td>\n",
       "      <td>2021-07-22 12:00:00</td>\n",
       "      <td>2</td>\n",
       "    </tr>\n",
       "    <tr>\n",
       "      <th>3951722</th>\n",
       "      <td>S101</td>\n",
       "      <td>R070</td>\n",
       "      <td>00-00-02</td>\n",
       "      <td>ST. GEORGE</td>\n",
       "      <td>2021-09-29 20:00:00</td>\n",
       "      <td>2</td>\n",
       "    </tr>\n",
       "    <tr>\n",
       "      <th>3951721</th>\n",
       "      <td>S101</td>\n",
       "      <td>R070</td>\n",
       "      <td>00-00-02</td>\n",
       "      <td>ST. GEORGE</td>\n",
       "      <td>2021-09-29 16:00:00</td>\n",
       "      <td>2</td>\n",
       "    </tr>\n",
       "    <tr>\n",
       "      <th>1078379</th>\n",
       "      <td>N071</td>\n",
       "      <td>R013</td>\n",
       "      <td>00-00-00</td>\n",
       "      <td>34 ST-PENN STA</td>\n",
       "      <td>2021-04-08 08:00:00</td>\n",
       "      <td>2</td>\n",
       "    </tr>\n",
       "  </tbody>\n",
       "</table>\n",
       "</div>"
      ],
      "text/plain": [
       "          C/A  UNIT       SCP         STATION           DATE_TIME  ENTRIES\n",
       "3951720  S101  R070  00-00-02      ST. GEORGE 2021-09-29 12:00:00        2\n",
       "3582043  R514  R094  00-05-00    ASTORIA BLVD 2021-07-22 12:00:00        2\n",
       "3951722  S101  R070  00-00-02      ST. GEORGE 2021-09-29 20:00:00        2\n",
       "3951721  S101  R070  00-00-02      ST. GEORGE 2021-09-29 16:00:00        2\n",
       "1078379  N071  R013  00-00-00  34 ST-PENN STA 2021-04-08 08:00:00        2"
      ]
     },
     "execution_count": 12,
     "metadata": {},
     "output_type": "execute_result"
    }
   ],
   "source": [
    "'''check for duplicate entries'''\n",
    "'''groupby sorts the entries by turnstyle and time and .count() gives the number of rows for each entry.\n",
    "it should only be 1 per entry because of how we grouped it. reset_index resets the index for the new grouped order.\n",
    "sort_values with the largest on top so any redundancy counts are visible with .head()'''\n",
    "(mta_df\n",
    "    .groupby(['C/A', 'UNIT', 'SCP', 'STATION', 'DATE_TIME'])\n",
    "    .ENTRIES.count()\n",
    "    .reset_index()\n",
    "    .sort_values('ENTRIES', ascending = False)).head()"
   ]
  },
  {
   "cell_type": "code",
   "execution_count": 13,
   "id": "6a620b0a",
   "metadata": {},
   "outputs": [
    {
     "data": {
      "text/html": [
       "<div>\n",
       "<style scoped>\n",
       "    .dataframe tbody tr th:only-of-type {\n",
       "        vertical-align: middle;\n",
       "    }\n",
       "\n",
       "    .dataframe tbody tr th {\n",
       "        vertical-align: top;\n",
       "    }\n",
       "\n",
       "    .dataframe thead th {\n",
       "        text-align: right;\n",
       "    }\n",
       "</style>\n",
       "<table border=\"1\" class=\"dataframe\">\n",
       "  <thead>\n",
       "    <tr style=\"text-align: right;\">\n",
       "      <th></th>\n",
       "      <th>C/A</th>\n",
       "      <th>UNIT</th>\n",
       "      <th>SCP</th>\n",
       "      <th>STATION</th>\n",
       "      <th>LINENAME</th>\n",
       "      <th>DIVISION</th>\n",
       "      <th>DESC</th>\n",
       "      <th>ENTRIES</th>\n",
       "      <th>EXITS</th>\n",
       "      <th>DATE_TIME</th>\n",
       "    </tr>\n",
       "  </thead>\n",
       "  <tbody>\n",
       "    <tr>\n",
       "      <th>837908</th>\n",
       "      <td>S101</td>\n",
       "      <td>R070</td>\n",
       "      <td>00-00-02</td>\n",
       "      <td>ST. GEORGE</td>\n",
       "      <td>1</td>\n",
       "      <td>SRT</td>\n",
       "      <td>RECOVR AUD</td>\n",
       "      <td>1217256</td>\n",
       "      <td>140</td>\n",
       "      <td>2021-10-03 00:00:00</td>\n",
       "    </tr>\n",
       "    <tr>\n",
       "      <th>837909</th>\n",
       "      <td>S101</td>\n",
       "      <td>R070</td>\n",
       "      <td>00-00-02</td>\n",
       "      <td>ST. GEORGE</td>\n",
       "      <td>1</td>\n",
       "      <td>SRT</td>\n",
       "      <td>REGULAR</td>\n",
       "      <td>1217257</td>\n",
       "      <td>140</td>\n",
       "      <td>2021-10-03 04:00:00</td>\n",
       "    </tr>\n",
       "    <tr>\n",
       "      <th>837910</th>\n",
       "      <td>S101</td>\n",
       "      <td>R070</td>\n",
       "      <td>00-00-02</td>\n",
       "      <td>ST. GEORGE</td>\n",
       "      <td>1</td>\n",
       "      <td>SRT</td>\n",
       "      <td>REGULAR</td>\n",
       "      <td>1217265</td>\n",
       "      <td>140</td>\n",
       "      <td>2021-10-03 08:00:00</td>\n",
       "    </tr>\n",
       "    <tr>\n",
       "      <th>837911</th>\n",
       "      <td>S101</td>\n",
       "      <td>R070</td>\n",
       "      <td>00-00-02</td>\n",
       "      <td>ST. GEORGE</td>\n",
       "      <td>1</td>\n",
       "      <td>SRT</td>\n",
       "      <td>RECOVR AUD</td>\n",
       "      <td>1400965</td>\n",
       "      <td>324</td>\n",
       "      <td>2021-10-03 08:00:00</td>\n",
       "    </tr>\n",
       "    <tr>\n",
       "      <th>837912</th>\n",
       "      <td>S101</td>\n",
       "      <td>R070</td>\n",
       "      <td>00-00-02</td>\n",
       "      <td>ST. GEORGE</td>\n",
       "      <td>1</td>\n",
       "      <td>SRT</td>\n",
       "      <td>REGULAR</td>\n",
       "      <td>1217284</td>\n",
       "      <td>140</td>\n",
       "      <td>2021-10-03 12:00:00</td>\n",
       "    </tr>\n",
       "  </tbody>\n",
       "</table>\n",
       "</div>"
      ],
      "text/plain": [
       "         C/A  UNIT       SCP     STATION LINENAME DIVISION        DESC  \\\n",
       "837908  S101  R070  00-00-02  ST. GEORGE        1      SRT  RECOVR AUD   \n",
       "837909  S101  R070  00-00-02  ST. GEORGE        1      SRT     REGULAR   \n",
       "837910  S101  R070  00-00-02  ST. GEORGE        1      SRT     REGULAR   \n",
       "837911  S101  R070  00-00-02  ST. GEORGE        1      SRT  RECOVR AUD   \n",
       "837912  S101  R070  00-00-02  ST. GEORGE        1      SRT     REGULAR   \n",
       "\n",
       "        ENTRIES  EXITS           DATE_TIME  \n",
       "837908  1217256    140 2021-10-03 00:00:00  \n",
       "837909  1217257    140 2021-10-03 04:00:00  \n",
       "837910  1217265    140 2021-10-03 08:00:00  \n",
       "837911  1400965    324 2021-10-03 08:00:00  \n",
       "837912  1217284    140 2021-10-03 12:00:00  "
      ]
     },
     "execution_count": 13,
     "metadata": {},
     "output_type": "execute_result"
    }
   ],
   "source": [
    "'''Use a mask to target a specific entry with redundancies'''\n",
    "mask = ((mta_df['C/A'] == 'S101') &\n",
    "(mta_df['UNIT'] == 'R070') &\n",
    "(mta_df['SCP'] == '00-00-02') &\n",
    "(mta_df['STATION'] == 'ST. GEORGE') &\n",
    "(mta_df['DATE_TIME'].dt.date == dt.datetime(2021, 10, 3).date()))\n",
    "\n",
    "mta_df[mask].head()"
   ]
  },
  {
   "cell_type": "code",
   "execution_count": 14,
   "id": "953aacc1",
   "metadata": {},
   "outputs": [],
   "source": [
    "'''delete the duplicate entries caused by the recovery audits'''\n",
    "'''first sort mta_df by each turnstyle and time, and store in mta_df by setting inpace = True'''\n",
    "mta_df.sort_values(['C/A', 'UNIT', 'SCP', 'STATION', 'DATE_TIME'], inplace = True, ascending = True)\n",
    "\n",
    "'''use drop.duplicates to delete duplicates caused by audits'''\n",
    "mta_df.drop_duplicates(subset=['C/A', 'UNIT', 'SCP', 'STATION', 'DATE_TIME'], inplace = True)"
   ]
  },
  {
   "cell_type": "code",
   "execution_count": 15,
   "id": "58987d11",
   "metadata": {},
   "outputs": [
    {
     "data": {
      "text/html": [
       "<div>\n",
       "<style scoped>\n",
       "    .dataframe tbody tr th:only-of-type {\n",
       "        vertical-align: middle;\n",
       "    }\n",
       "\n",
       "    .dataframe tbody tr th {\n",
       "        vertical-align: top;\n",
       "    }\n",
       "\n",
       "    .dataframe thead th {\n",
       "        text-align: right;\n",
       "    }\n",
       "</style>\n",
       "<table border=\"1\" class=\"dataframe\">\n",
       "  <thead>\n",
       "    <tr style=\"text-align: right;\">\n",
       "      <th></th>\n",
       "      <th>C/A</th>\n",
       "      <th>UNIT</th>\n",
       "      <th>SCP</th>\n",
       "      <th>STATION</th>\n",
       "      <th>DATE_TIME</th>\n",
       "      <th>ENTRIES</th>\n",
       "    </tr>\n",
       "  </thead>\n",
       "  <tbody>\n",
       "    <tr>\n",
       "      <th>0</th>\n",
       "      <td>A002</td>\n",
       "      <td>R051</td>\n",
       "      <td>02-00-00</td>\n",
       "      <td>59 ST</td>\n",
       "      <td>2020-12-26 03:00:00</td>\n",
       "      <td>1</td>\n",
       "    </tr>\n",
       "    <tr>\n",
       "      <th>2655432</th>\n",
       "      <td>R138</td>\n",
       "      <td>R293</td>\n",
       "      <td>00-05-01</td>\n",
       "      <td>34 ST-PENN STA</td>\n",
       "      <td>2021-04-03 14:00:00</td>\n",
       "      <td>1</td>\n",
       "    </tr>\n",
       "    <tr>\n",
       "      <th>2655404</th>\n",
       "      <td>R138</td>\n",
       "      <td>R293</td>\n",
       "      <td>00-05-01</td>\n",
       "      <td>34 ST-PENN STA</td>\n",
       "      <td>2021-03-29 22:00:00</td>\n",
       "      <td>1</td>\n",
       "    </tr>\n",
       "    <tr>\n",
       "      <th>2655405</th>\n",
       "      <td>R138</td>\n",
       "      <td>R293</td>\n",
       "      <td>00-05-01</td>\n",
       "      <td>34 ST-PENN STA</td>\n",
       "      <td>2021-03-30 02:00:00</td>\n",
       "      <td>1</td>\n",
       "    </tr>\n",
       "    <tr>\n",
       "      <th>2655406</th>\n",
       "      <td>R138</td>\n",
       "      <td>R293</td>\n",
       "      <td>00-05-01</td>\n",
       "      <td>34 ST-PENN STA</td>\n",
       "      <td>2021-03-30 06:00:00</td>\n",
       "      <td>1</td>\n",
       "    </tr>\n",
       "  </tbody>\n",
       "</table>\n",
       "</div>"
      ],
      "text/plain": [
       "          C/A  UNIT       SCP         STATION           DATE_TIME  ENTRIES\n",
       "0        A002  R051  02-00-00           59 ST 2020-12-26 03:00:00        1\n",
       "2655432  R138  R293  00-05-01  34 ST-PENN STA 2021-04-03 14:00:00        1\n",
       "2655404  R138  R293  00-05-01  34 ST-PENN STA 2021-03-29 22:00:00        1\n",
       "2655405  R138  R293  00-05-01  34 ST-PENN STA 2021-03-30 02:00:00        1\n",
       "2655406  R138  R293  00-05-01  34 ST-PENN STA 2021-03-30 06:00:00        1"
      ]
     },
     "execution_count": 15,
     "metadata": {},
     "output_type": "execute_result"
    }
   ],
   "source": [
    "'''check that duplicates were deleted'''\n",
    "(mta_df\n",
    "    .groupby(['C/A', 'UNIT', 'SCP', 'STATION', 'DATE_TIME'])\n",
    "    .ENTRIES.count()\n",
    "    .reset_index()\n",
    "    .sort_values('ENTRIES', ascending = False)).head()"
   ]
  },
  {
   "cell_type": "code",
   "execution_count": 16,
   "id": "fe0dec9a",
   "metadata": {},
   "outputs": [
    {
     "data": {
      "text/html": [
       "<div>\n",
       "<style scoped>\n",
       "    .dataframe tbody tr th:only-of-type {\n",
       "        vertical-align: middle;\n",
       "    }\n",
       "\n",
       "    .dataframe tbody tr th {\n",
       "        vertical-align: top;\n",
       "    }\n",
       "\n",
       "    .dataframe thead th {\n",
       "        text-align: right;\n",
       "    }\n",
       "</style>\n",
       "<table border=\"1\" class=\"dataframe\">\n",
       "  <thead>\n",
       "    <tr style=\"text-align: right;\">\n",
       "      <th></th>\n",
       "      <th>C/A</th>\n",
       "      <th>UNIT</th>\n",
       "      <th>SCP</th>\n",
       "      <th>STATION</th>\n",
       "      <th>LINENAME</th>\n",
       "      <th>DIVISION</th>\n",
       "      <th>ENTRIES</th>\n",
       "      <th>DATE_TIME</th>\n",
       "    </tr>\n",
       "  </thead>\n",
       "  <tbody>\n",
       "    <tr>\n",
       "      <th>3772753</th>\n",
       "      <td>A002</td>\n",
       "      <td>R051</td>\n",
       "      <td>02-00-00</td>\n",
       "      <td>59 ST</td>\n",
       "      <td>NQR456W</td>\n",
       "      <td>BMT</td>\n",
       "      <td>7508509</td>\n",
       "      <td>2020-12-26 03:00:00</td>\n",
       "    </tr>\n",
       "    <tr>\n",
       "      <th>3772754</th>\n",
       "      <td>A002</td>\n",
       "      <td>R051</td>\n",
       "      <td>02-00-00</td>\n",
       "      <td>59 ST</td>\n",
       "      <td>NQR456W</td>\n",
       "      <td>BMT</td>\n",
       "      <td>7508511</td>\n",
       "      <td>2020-12-26 07:00:00</td>\n",
       "    </tr>\n",
       "    <tr>\n",
       "      <th>3772755</th>\n",
       "      <td>A002</td>\n",
       "      <td>R051</td>\n",
       "      <td>02-00-00</td>\n",
       "      <td>59 ST</td>\n",
       "      <td>NQR456W</td>\n",
       "      <td>BMT</td>\n",
       "      <td>7508531</td>\n",
       "      <td>2020-12-26 11:00:00</td>\n",
       "    </tr>\n",
       "    <tr>\n",
       "      <th>3772756</th>\n",
       "      <td>A002</td>\n",
       "      <td>R051</td>\n",
       "      <td>02-00-00</td>\n",
       "      <td>59 ST</td>\n",
       "      <td>NQR456W</td>\n",
       "      <td>BMT</td>\n",
       "      <td>7508610</td>\n",
       "      <td>2020-12-26 15:00:00</td>\n",
       "    </tr>\n",
       "    <tr>\n",
       "      <th>3772757</th>\n",
       "      <td>A002</td>\n",
       "      <td>R051</td>\n",
       "      <td>02-00-00</td>\n",
       "      <td>59 ST</td>\n",
       "      <td>NQR456W</td>\n",
       "      <td>BMT</td>\n",
       "      <td>7508767</td>\n",
       "      <td>2020-12-26 19:00:00</td>\n",
       "    </tr>\n",
       "  </tbody>\n",
       "</table>\n",
       "</div>"
      ],
      "text/plain": [
       "          C/A  UNIT       SCP STATION LINENAME DIVISION  ENTRIES  \\\n",
       "3772753  A002  R051  02-00-00   59 ST  NQR456W      BMT  7508509   \n",
       "3772754  A002  R051  02-00-00   59 ST  NQR456W      BMT  7508511   \n",
       "3772755  A002  R051  02-00-00   59 ST  NQR456W      BMT  7508531   \n",
       "3772756  A002  R051  02-00-00   59 ST  NQR456W      BMT  7508610   \n",
       "3772757  A002  R051  02-00-00   59 ST  NQR456W      BMT  7508767   \n",
       "\n",
       "                  DATE_TIME  \n",
       "3772753 2020-12-26 03:00:00  \n",
       "3772754 2020-12-26 07:00:00  \n",
       "3772755 2020-12-26 11:00:00  \n",
       "3772756 2020-12-26 15:00:00  \n",
       "3772757 2020-12-26 19:00:00  "
      ]
     },
     "execution_count": 16,
     "metadata": {},
     "output_type": "execute_result"
    }
   ],
   "source": [
    "'''drop exits and description columns, we only need entries to answer our question'''\n",
    "mta_df = mta_df.drop(['DESC', 'EXITS'], axis=1, errors='ignore')\n",
    "mta_df.head()"
   ]
  },
  {
   "cell_type": "code",
   "execution_count": 17,
   "id": "354706ed",
   "metadata": {},
   "outputs": [
    {
     "data": {
      "text/html": [
       "<div>\n",
       "<style scoped>\n",
       "    .dataframe tbody tr th:only-of-type {\n",
       "        vertical-align: middle;\n",
       "    }\n",
       "\n",
       "    .dataframe tbody tr th {\n",
       "        vertical-align: top;\n",
       "    }\n",
       "\n",
       "    .dataframe thead th {\n",
       "        text-align: right;\n",
       "    }\n",
       "</style>\n",
       "<table border=\"1\" class=\"dataframe\">\n",
       "  <thead>\n",
       "    <tr style=\"text-align: right;\">\n",
       "      <th></th>\n",
       "      <th>C/A</th>\n",
       "      <th>UNIT</th>\n",
       "      <th>SCP</th>\n",
       "      <th>STATION</th>\n",
       "      <th>LINENAME</th>\n",
       "      <th>DIVISION</th>\n",
       "      <th>ENTRIES</th>\n",
       "      <th>DATE_TIME</th>\n",
       "    </tr>\n",
       "  </thead>\n",
       "  <tbody>\n",
       "    <tr>\n",
       "      <th>2725878</th>\n",
       "      <td>A002</td>\n",
       "      <td>R051</td>\n",
       "      <td>02-00-00</td>\n",
       "      <td>59 ST</td>\n",
       "      <td>NQR456W</td>\n",
       "      <td>BMT</td>\n",
       "      <td>7550517</td>\n",
       "      <td>2021-03-27</td>\n",
       "    </tr>\n",
       "    <tr>\n",
       "      <th>2725884</th>\n",
       "      <td>A002</td>\n",
       "      <td>R051</td>\n",
       "      <td>02-00-00</td>\n",
       "      <td>59 ST</td>\n",
       "      <td>NQR456W</td>\n",
       "      <td>BMT</td>\n",
       "      <td>7550517</td>\n",
       "      <td>2021-03-28</td>\n",
       "    </tr>\n",
       "    <tr>\n",
       "      <th>2725890</th>\n",
       "      <td>A002</td>\n",
       "      <td>R051</td>\n",
       "      <td>02-00-00</td>\n",
       "      <td>59 ST</td>\n",
       "      <td>NQR456W</td>\n",
       "      <td>BMT</td>\n",
       "      <td>7550709</td>\n",
       "      <td>2021-03-29</td>\n",
       "    </tr>\n",
       "    <tr>\n",
       "      <th>2725896</th>\n",
       "      <td>A002</td>\n",
       "      <td>R051</td>\n",
       "      <td>02-00-00</td>\n",
       "      <td>59 ST</td>\n",
       "      <td>NQR456W</td>\n",
       "      <td>BMT</td>\n",
       "      <td>7551243</td>\n",
       "      <td>2021-03-30</td>\n",
       "    </tr>\n",
       "    <tr>\n",
       "      <th>2725902</th>\n",
       "      <td>A002</td>\n",
       "      <td>R051</td>\n",
       "      <td>02-00-00</td>\n",
       "      <td>59 ST</td>\n",
       "      <td>NQR456W</td>\n",
       "      <td>BMT</td>\n",
       "      <td>7551789</td>\n",
       "      <td>2021-03-31</td>\n",
       "    </tr>\n",
       "  </tbody>\n",
       "</table>\n",
       "</div>"
      ],
      "text/plain": [
       "          C/A  UNIT       SCP STATION LINENAME DIVISION  ENTRIES  DATE_TIME\n",
       "2725878  A002  R051  02-00-00   59 ST  NQR456W      BMT  7550517 2021-03-27\n",
       "2725884  A002  R051  02-00-00   59 ST  NQR456W      BMT  7550517 2021-03-28\n",
       "2725890  A002  R051  02-00-00   59 ST  NQR456W      BMT  7550709 2021-03-29\n",
       "2725896  A002  R051  02-00-00   59 ST  NQR456W      BMT  7551243 2021-03-30\n",
       "2725902  A002  R051  02-00-00   59 ST  NQR456W      BMT  7551789 2021-03-31"
      ]
     },
     "execution_count": 17,
     "metadata": {},
     "output_type": "execute_result"
    }
   ],
   "source": [
    "'''reduce dataframe to just one data pull per day'''\n",
    "mta_daily = mta_df[mta_df.DATE_TIME.dt.hour == 0]\n",
    "mta_daily.head()"
   ]
  },
  {
   "cell_type": "code",
   "execution_count": 18,
   "id": "c638e4e7",
   "metadata": {},
   "outputs": [
    {
     "name": "stdout",
     "output_type": "stream",
     "text": [
      "<class 'pandas.core.frame.DataFrame'>\n",
      "Int64Index: 331882 entries, 2725878 to 3143855\n",
      "Data columns (total 8 columns):\n",
      " #   Column     Non-Null Count   Dtype         \n",
      "---  ------     --------------   -----         \n",
      " 0   C/A        331882 non-null  object        \n",
      " 1   UNIT       331882 non-null  object        \n",
      " 2   SCP        331882 non-null  object        \n",
      " 3   STATION    331882 non-null  object        \n",
      " 4   LINENAME   331882 non-null  object        \n",
      " 5   DIVISION   331882 non-null  object        \n",
      " 6   ENTRIES    331882 non-null  int64         \n",
      " 7   DATE_TIME  331882 non-null  datetime64[ns]\n",
      "dtypes: datetime64[ns](1), int64(1), object(6)\n",
      "memory usage: 22.8+ MB\n"
     ]
    }
   ],
   "source": [
    "mta_daily.info()"
   ]
  },
  {
   "cell_type": "code",
   "execution_count": 19,
   "id": "6e87b71d",
   "metadata": {},
   "outputs": [
    {
     "name": "stderr",
     "output_type": "stream",
     "text": [
      "/tmp/ipykernel_2129/1256431989.py:3: FutureWarning: Indexing with multiple keys (implicitly converted to a tuple of keys) will be deprecated, use a list instead.\n",
      "  mta_daily[['PREV_DATE','PREV_ENTRIES']] = (mta_daily\n",
      "/home/jtaz/anaconda3/lib/python3.9/site-packages/pandas/core/frame.py:3641: SettingWithCopyWarning: \n",
      "A value is trying to be set on a copy of a slice from a DataFrame.\n",
      "Try using .loc[row_indexer,col_indexer] = value instead\n",
      "\n",
      "See the caveats in the documentation: https://pandas.pydata.org/pandas-docs/stable/user_guide/indexing.html#returning-a-view-versus-a-copy\n",
      "  self[k1] = value[k2]\n"
     ]
    },
    {
     "data": {
      "text/html": [
       "<div>\n",
       "<style scoped>\n",
       "    .dataframe tbody tr th:only-of-type {\n",
       "        vertical-align: middle;\n",
       "    }\n",
       "\n",
       "    .dataframe tbody tr th {\n",
       "        vertical-align: top;\n",
       "    }\n",
       "\n",
       "    .dataframe thead th {\n",
       "        text-align: right;\n",
       "    }\n",
       "</style>\n",
       "<table border=\"1\" class=\"dataframe\">\n",
       "  <thead>\n",
       "    <tr style=\"text-align: right;\">\n",
       "      <th></th>\n",
       "      <th>C/A</th>\n",
       "      <th>UNIT</th>\n",
       "      <th>SCP</th>\n",
       "      <th>STATION</th>\n",
       "      <th>LINENAME</th>\n",
       "      <th>DIVISION</th>\n",
       "      <th>ENTRIES</th>\n",
       "      <th>DATE_TIME</th>\n",
       "      <th>PREV_DATE</th>\n",
       "      <th>PREV_ENTRIES</th>\n",
       "    </tr>\n",
       "  </thead>\n",
       "  <tbody>\n",
       "    <tr>\n",
       "      <th>2725878</th>\n",
       "      <td>A002</td>\n",
       "      <td>R051</td>\n",
       "      <td>02-00-00</td>\n",
       "      <td>59 ST</td>\n",
       "      <td>NQR456W</td>\n",
       "      <td>BMT</td>\n",
       "      <td>7550517</td>\n",
       "      <td>2021-03-27</td>\n",
       "      <td>NaT</td>\n",
       "      <td>NaN</td>\n",
       "    </tr>\n",
       "    <tr>\n",
       "      <th>2725884</th>\n",
       "      <td>A002</td>\n",
       "      <td>R051</td>\n",
       "      <td>02-00-00</td>\n",
       "      <td>59 ST</td>\n",
       "      <td>NQR456W</td>\n",
       "      <td>BMT</td>\n",
       "      <td>7550517</td>\n",
       "      <td>2021-03-28</td>\n",
       "      <td>2021-03-27</td>\n",
       "      <td>7550517.0</td>\n",
       "    </tr>\n",
       "    <tr>\n",
       "      <th>2725890</th>\n",
       "      <td>A002</td>\n",
       "      <td>R051</td>\n",
       "      <td>02-00-00</td>\n",
       "      <td>59 ST</td>\n",
       "      <td>NQR456W</td>\n",
       "      <td>BMT</td>\n",
       "      <td>7550709</td>\n",
       "      <td>2021-03-29</td>\n",
       "      <td>2021-03-28</td>\n",
       "      <td>7550517.0</td>\n",
       "    </tr>\n",
       "    <tr>\n",
       "      <th>2725896</th>\n",
       "      <td>A002</td>\n",
       "      <td>R051</td>\n",
       "      <td>02-00-00</td>\n",
       "      <td>59 ST</td>\n",
       "      <td>NQR456W</td>\n",
       "      <td>BMT</td>\n",
       "      <td>7551243</td>\n",
       "      <td>2021-03-30</td>\n",
       "      <td>2021-03-29</td>\n",
       "      <td>7550709.0</td>\n",
       "    </tr>\n",
       "    <tr>\n",
       "      <th>2725902</th>\n",
       "      <td>A002</td>\n",
       "      <td>R051</td>\n",
       "      <td>02-00-00</td>\n",
       "      <td>59 ST</td>\n",
       "      <td>NQR456W</td>\n",
       "      <td>BMT</td>\n",
       "      <td>7551789</td>\n",
       "      <td>2021-03-31</td>\n",
       "      <td>2021-03-30</td>\n",
       "      <td>7551243.0</td>\n",
       "    </tr>\n",
       "  </tbody>\n",
       "</table>\n",
       "</div>"
      ],
      "text/plain": [
       "          C/A  UNIT       SCP STATION LINENAME DIVISION  ENTRIES  DATE_TIME  \\\n",
       "2725878  A002  R051  02-00-00   59 ST  NQR456W      BMT  7550517 2021-03-27   \n",
       "2725884  A002  R051  02-00-00   59 ST  NQR456W      BMT  7550517 2021-03-28   \n",
       "2725890  A002  R051  02-00-00   59 ST  NQR456W      BMT  7550709 2021-03-29   \n",
       "2725896  A002  R051  02-00-00   59 ST  NQR456W      BMT  7551243 2021-03-30   \n",
       "2725902  A002  R051  02-00-00   59 ST  NQR456W      BMT  7551789 2021-03-31   \n",
       "\n",
       "         PREV_DATE  PREV_ENTRIES  \n",
       "2725878        NaT           NaN  \n",
       "2725884 2021-03-27     7550517.0  \n",
       "2725890 2021-03-28     7550517.0  \n",
       "2725896 2021-03-29     7550709.0  \n",
       "2725902 2021-03-30     7551243.0  "
      ]
     },
     "execution_count": 19,
     "metadata": {},
     "output_type": "execute_result"
    }
   ],
   "source": [
    "'''in order to calculate daily entries, i create 2 new columns for prev date and prev entries.\n",
    "group by each style, shift the DATE and ENTRIES columns down 1 row'''\n",
    "mta_daily[['PREV_DATE','PREV_ENTRIES']] = (mta_daily\n",
    "                                              .groupby(['C/A', 'UNIT', 'SCP', 'STATION'])['DATE_TIME','ENTRIES']\n",
    "                                               .apply(lambda grp: grp.shift(1))\n",
    "                                          )\n",
    "mta_daily.head()"
   ]
  },
  {
   "cell_type": "code",
   "execution_count": 20,
   "id": "a4640de6",
   "metadata": {},
   "outputs": [
    {
     "data": {
      "text/plain": [
       "C/A   UNIT  SCP       STATION        \n",
       "A011  R080  01-03-00  57 ST-7 AV         97\n",
       "            01-03-03  57 ST-7 AV          1\n",
       "            01-03-04  57 ST-7 AV          1\n",
       "A013  R081  01-03-00  49 ST               1\n",
       "            01-06-01  49 ST               2\n",
       "                                         ..\n",
       "R622  R123  00-00-00  FRANKLIN AV        97\n",
       "R633  R068  00-00-01  VAN SICLEN AV       1\n",
       "R730  R431  00-00-04  EASTCHSTER/DYRE    34\n",
       "S101  R070  00-00-02  ST. GEORGE          2\n",
       "            00-00-04  ST. GEORGE          1\n",
       "Length: 290, dtype: int64"
      ]
     },
     "execution_count": 20,
     "metadata": {},
     "output_type": "execute_result"
    }
   ],
   "source": [
    "'''identify if any of the counters are working in reverse or if they reset after reaching a certain number.\n",
    "Group by station and take .size'''\n",
    "(mta_daily[mta_daily['ENTRIES'] < mta_daily['PREV_ENTRIES']]\n",
    "     .groupby(['C/A', 'UNIT', 'SCP', 'STATION'])\n",
    "     .size())"
   ]
  },
  {
   "cell_type": "code",
   "execution_count": 21,
   "id": "5f0b4a76",
   "metadata": {},
   "outputs": [
    {
     "name": "stderr",
     "output_type": "stream",
     "text": [
      "/tmp/ipykernel_2129/2141046687.py:15: SettingWithCopyWarning: \n",
      "A value is trying to be set on a copy of a slice from a DataFrame.\n",
      "Try using .loc[row_indexer,col_indexer] = value instead\n",
      "\n",
      "See the caveats in the documentation: https://pandas.pydata.org/pandas-docs/stable/user_guide/indexing.html#returning-a-view-versus-a-copy\n",
      "  mta_daily['DAILY_ENT'] = mta_daily.apply(daily1, axis = 1, maxcnt = 200000)\n"
     ]
    },
    {
     "data": {
      "text/html": [
       "<div>\n",
       "<style scoped>\n",
       "    .dataframe tbody tr th:only-of-type {\n",
       "        vertical-align: middle;\n",
       "    }\n",
       "\n",
       "    .dataframe tbody tr th {\n",
       "        vertical-align: top;\n",
       "    }\n",
       "\n",
       "    .dataframe thead th {\n",
       "        text-align: right;\n",
       "    }\n",
       "</style>\n",
       "<table border=\"1\" class=\"dataframe\">\n",
       "  <thead>\n",
       "    <tr style=\"text-align: right;\">\n",
       "      <th></th>\n",
       "      <th>C/A</th>\n",
       "      <th>UNIT</th>\n",
       "      <th>SCP</th>\n",
       "      <th>STATION</th>\n",
       "      <th>LINENAME</th>\n",
       "      <th>DIVISION</th>\n",
       "      <th>ENTRIES</th>\n",
       "      <th>DATE_TIME</th>\n",
       "      <th>PREV_DATE</th>\n",
       "      <th>PREV_ENTRIES</th>\n",
       "      <th>DAILY_ENT</th>\n",
       "    </tr>\n",
       "  </thead>\n",
       "  <tbody>\n",
       "    <tr>\n",
       "      <th>2725878</th>\n",
       "      <td>A002</td>\n",
       "      <td>R051</td>\n",
       "      <td>02-00-00</td>\n",
       "      <td>59 ST</td>\n",
       "      <td>NQR456W</td>\n",
       "      <td>BMT</td>\n",
       "      <td>7550517</td>\n",
       "      <td>2021-03-27</td>\n",
       "      <td>NaT</td>\n",
       "      <td>NaN</td>\n",
       "      <td>NaN</td>\n",
       "    </tr>\n",
       "    <tr>\n",
       "      <th>2725884</th>\n",
       "      <td>A002</td>\n",
       "      <td>R051</td>\n",
       "      <td>02-00-00</td>\n",
       "      <td>59 ST</td>\n",
       "      <td>NQR456W</td>\n",
       "      <td>BMT</td>\n",
       "      <td>7550517</td>\n",
       "      <td>2021-03-28</td>\n",
       "      <td>2021-03-27</td>\n",
       "      <td>7550517.0</td>\n",
       "      <td>0.0</td>\n",
       "    </tr>\n",
       "    <tr>\n",
       "      <th>2725890</th>\n",
       "      <td>A002</td>\n",
       "      <td>R051</td>\n",
       "      <td>02-00-00</td>\n",
       "      <td>59 ST</td>\n",
       "      <td>NQR456W</td>\n",
       "      <td>BMT</td>\n",
       "      <td>7550709</td>\n",
       "      <td>2021-03-29</td>\n",
       "      <td>2021-03-28</td>\n",
       "      <td>7550517.0</td>\n",
       "      <td>192.0</td>\n",
       "    </tr>\n",
       "    <tr>\n",
       "      <th>2725896</th>\n",
       "      <td>A002</td>\n",
       "      <td>R051</td>\n",
       "      <td>02-00-00</td>\n",
       "      <td>59 ST</td>\n",
       "      <td>NQR456W</td>\n",
       "      <td>BMT</td>\n",
       "      <td>7551243</td>\n",
       "      <td>2021-03-30</td>\n",
       "      <td>2021-03-29</td>\n",
       "      <td>7550709.0</td>\n",
       "      <td>534.0</td>\n",
       "    </tr>\n",
       "    <tr>\n",
       "      <th>2725902</th>\n",
       "      <td>A002</td>\n",
       "      <td>R051</td>\n",
       "      <td>02-00-00</td>\n",
       "      <td>59 ST</td>\n",
       "      <td>NQR456W</td>\n",
       "      <td>BMT</td>\n",
       "      <td>7551789</td>\n",
       "      <td>2021-03-31</td>\n",
       "      <td>2021-03-30</td>\n",
       "      <td>7551243.0</td>\n",
       "      <td>546.0</td>\n",
       "    </tr>\n",
       "    <tr>\n",
       "      <th>2725908</th>\n",
       "      <td>A002</td>\n",
       "      <td>R051</td>\n",
       "      <td>02-00-00</td>\n",
       "      <td>59 ST</td>\n",
       "      <td>NQR456W</td>\n",
       "      <td>BMT</td>\n",
       "      <td>7552051</td>\n",
       "      <td>2021-04-01</td>\n",
       "      <td>2021-03-31</td>\n",
       "      <td>7551789.0</td>\n",
       "      <td>262.0</td>\n",
       "    </tr>\n",
       "    <tr>\n",
       "      <th>2725914</th>\n",
       "      <td>A002</td>\n",
       "      <td>R051</td>\n",
       "      <td>02-00-00</td>\n",
       "      <td>59 ST</td>\n",
       "      <td>NQR456W</td>\n",
       "      <td>BMT</td>\n",
       "      <td>7552051</td>\n",
       "      <td>2021-04-02</td>\n",
       "      <td>2021-04-01</td>\n",
       "      <td>7552051.0</td>\n",
       "      <td>0.0</td>\n",
       "    </tr>\n",
       "    <tr>\n",
       "      <th>2516312</th>\n",
       "      <td>A002</td>\n",
       "      <td>R051</td>\n",
       "      <td>02-00-00</td>\n",
       "      <td>59 ST</td>\n",
       "      <td>NQR456W</td>\n",
       "      <td>BMT</td>\n",
       "      <td>7552051</td>\n",
       "      <td>2021-04-03</td>\n",
       "      <td>2021-04-02</td>\n",
       "      <td>7552051.0</td>\n",
       "      <td>0.0</td>\n",
       "    </tr>\n",
       "    <tr>\n",
       "      <th>2516318</th>\n",
       "      <td>A002</td>\n",
       "      <td>R051</td>\n",
       "      <td>02-00-00</td>\n",
       "      <td>59 ST</td>\n",
       "      <td>NQR456W</td>\n",
       "      <td>BMT</td>\n",
       "      <td>7552051</td>\n",
       "      <td>2021-04-04</td>\n",
       "      <td>2021-04-03</td>\n",
       "      <td>7552051.0</td>\n",
       "      <td>0.0</td>\n",
       "    </tr>\n",
       "    <tr>\n",
       "      <th>2516324</th>\n",
       "      <td>A002</td>\n",
       "      <td>R051</td>\n",
       "      <td>02-00-00</td>\n",
       "      <td>59 ST</td>\n",
       "      <td>NQR456W</td>\n",
       "      <td>BMT</td>\n",
       "      <td>7552051</td>\n",
       "      <td>2021-04-05</td>\n",
       "      <td>2021-04-04</td>\n",
       "      <td>7552051.0</td>\n",
       "      <td>0.0</td>\n",
       "    </tr>\n",
       "  </tbody>\n",
       "</table>\n",
       "</div>"
      ],
      "text/plain": [
       "          C/A  UNIT       SCP STATION LINENAME DIVISION  ENTRIES  DATE_TIME  \\\n",
       "2725878  A002  R051  02-00-00   59 ST  NQR456W      BMT  7550517 2021-03-27   \n",
       "2725884  A002  R051  02-00-00   59 ST  NQR456W      BMT  7550517 2021-03-28   \n",
       "2725890  A002  R051  02-00-00   59 ST  NQR456W      BMT  7550709 2021-03-29   \n",
       "2725896  A002  R051  02-00-00   59 ST  NQR456W      BMT  7551243 2021-03-30   \n",
       "2725902  A002  R051  02-00-00   59 ST  NQR456W      BMT  7551789 2021-03-31   \n",
       "2725908  A002  R051  02-00-00   59 ST  NQR456W      BMT  7552051 2021-04-01   \n",
       "2725914  A002  R051  02-00-00   59 ST  NQR456W      BMT  7552051 2021-04-02   \n",
       "2516312  A002  R051  02-00-00   59 ST  NQR456W      BMT  7552051 2021-04-03   \n",
       "2516318  A002  R051  02-00-00   59 ST  NQR456W      BMT  7552051 2021-04-04   \n",
       "2516324  A002  R051  02-00-00   59 ST  NQR456W      BMT  7552051 2021-04-05   \n",
       "\n",
       "         PREV_DATE  PREV_ENTRIES  DAILY_ENT  \n",
       "2725878        NaT           NaN        NaN  \n",
       "2725884 2021-03-27     7550517.0        0.0  \n",
       "2725890 2021-03-28     7550517.0      192.0  \n",
       "2725896 2021-03-29     7550709.0      534.0  \n",
       "2725902 2021-03-30     7551243.0      546.0  \n",
       "2725908 2021-03-31     7551789.0      262.0  \n",
       "2725914 2021-04-01     7552051.0        0.0  \n",
       "2516312 2021-04-02     7552051.0        0.0  \n",
       "2516318 2021-04-03     7552051.0        0.0  \n",
       "2516324 2021-04-04     7552051.0        0.0  "
      ]
     },
     "execution_count": 21,
     "metadata": {},
     "output_type": "execute_result"
    }
   ],
   "source": [
    "'''METIS MTA_EXERCISE_2 provided the idea that counters might be reset and the need to account for it in this way '''\n",
    "'''alter daily function to deal with possible counter resets'''\n",
    "def daily1(row, maxcnt):\n",
    "    #get count by subtracting today count from yesterday count\n",
    "    cnt = row['ENTRIES'] - row['PREV_ENTRIES']\n",
    "    #if count is negative, it's because the counter is counting down, diff is still valid\n",
    "    if cnt < 0:\n",
    "        cnt = -1*cnt\n",
    "    #if daily count exceeds 1,000,000 it might be because the counter was reset, set counter to min of two values\n",
    "    if cnt > maxcnt:\n",
    "        cnt = min(row['ENTRIES'], row['PREV_ENTRIES'])\n",
    "    if cnt > maxcnt:\n",
    "        cnt = 0\n",
    "    return cnt\n",
    "mta_daily['DAILY_ENT'] = mta_daily.apply(daily1, axis = 1, maxcnt = 200000)\n",
    "mta_daily.head(10)"
   ]
  },
  {
   "cell_type": "code",
   "execution_count": 22,
   "id": "ff0b7ad8",
   "metadata": {},
   "outputs": [
    {
     "data": {
      "text/html": [
       "<div>\n",
       "<style scoped>\n",
       "    .dataframe tbody tr th:only-of-type {\n",
       "        vertical-align: middle;\n",
       "    }\n",
       "\n",
       "    .dataframe tbody tr th {\n",
       "        vertical-align: top;\n",
       "    }\n",
       "\n",
       "    .dataframe thead th {\n",
       "        text-align: right;\n",
       "    }\n",
       "</style>\n",
       "<table border=\"1\" class=\"dataframe\">\n",
       "  <thead>\n",
       "    <tr style=\"text-align: right;\">\n",
       "      <th></th>\n",
       "      <th>C/A</th>\n",
       "      <th>UNIT</th>\n",
       "      <th>SCP</th>\n",
       "      <th>STATION</th>\n",
       "      <th>LINENAME</th>\n",
       "      <th>DATE_TIME</th>\n",
       "      <th>DAILY_ENT</th>\n",
       "    </tr>\n",
       "  </thead>\n",
       "  <tbody>\n",
       "    <tr>\n",
       "      <th>2725878</th>\n",
       "      <td>A002</td>\n",
       "      <td>R051</td>\n",
       "      <td>02-00-00</td>\n",
       "      <td>59 ST</td>\n",
       "      <td>NQR456W</td>\n",
       "      <td>2021-03-27</td>\n",
       "      <td>NaN</td>\n",
       "    </tr>\n",
       "    <tr>\n",
       "      <th>2725884</th>\n",
       "      <td>A002</td>\n",
       "      <td>R051</td>\n",
       "      <td>02-00-00</td>\n",
       "      <td>59 ST</td>\n",
       "      <td>NQR456W</td>\n",
       "      <td>2021-03-28</td>\n",
       "      <td>0.0</td>\n",
       "    </tr>\n",
       "    <tr>\n",
       "      <th>2725890</th>\n",
       "      <td>A002</td>\n",
       "      <td>R051</td>\n",
       "      <td>02-00-00</td>\n",
       "      <td>59 ST</td>\n",
       "      <td>NQR456W</td>\n",
       "      <td>2021-03-29</td>\n",
       "      <td>192.0</td>\n",
       "    </tr>\n",
       "    <tr>\n",
       "      <th>2725896</th>\n",
       "      <td>A002</td>\n",
       "      <td>R051</td>\n",
       "      <td>02-00-00</td>\n",
       "      <td>59 ST</td>\n",
       "      <td>NQR456W</td>\n",
       "      <td>2021-03-30</td>\n",
       "      <td>534.0</td>\n",
       "    </tr>\n",
       "    <tr>\n",
       "      <th>2725902</th>\n",
       "      <td>A002</td>\n",
       "      <td>R051</td>\n",
       "      <td>02-00-00</td>\n",
       "      <td>59 ST</td>\n",
       "      <td>NQR456W</td>\n",
       "      <td>2021-03-31</td>\n",
       "      <td>546.0</td>\n",
       "    </tr>\n",
       "    <tr>\n",
       "      <th>2725908</th>\n",
       "      <td>A002</td>\n",
       "      <td>R051</td>\n",
       "      <td>02-00-00</td>\n",
       "      <td>59 ST</td>\n",
       "      <td>NQR456W</td>\n",
       "      <td>2021-04-01</td>\n",
       "      <td>262.0</td>\n",
       "    </tr>\n",
       "    <tr>\n",
       "      <th>2725914</th>\n",
       "      <td>A002</td>\n",
       "      <td>R051</td>\n",
       "      <td>02-00-00</td>\n",
       "      <td>59 ST</td>\n",
       "      <td>NQR456W</td>\n",
       "      <td>2021-04-02</td>\n",
       "      <td>0.0</td>\n",
       "    </tr>\n",
       "    <tr>\n",
       "      <th>2516312</th>\n",
       "      <td>A002</td>\n",
       "      <td>R051</td>\n",
       "      <td>02-00-00</td>\n",
       "      <td>59 ST</td>\n",
       "      <td>NQR456W</td>\n",
       "      <td>2021-04-03</td>\n",
       "      <td>0.0</td>\n",
       "    </tr>\n",
       "    <tr>\n",
       "      <th>2516318</th>\n",
       "      <td>A002</td>\n",
       "      <td>R051</td>\n",
       "      <td>02-00-00</td>\n",
       "      <td>59 ST</td>\n",
       "      <td>NQR456W</td>\n",
       "      <td>2021-04-04</td>\n",
       "      <td>0.0</td>\n",
       "    </tr>\n",
       "    <tr>\n",
       "      <th>2516324</th>\n",
       "      <td>A002</td>\n",
       "      <td>R051</td>\n",
       "      <td>02-00-00</td>\n",
       "      <td>59 ST</td>\n",
       "      <td>NQR456W</td>\n",
       "      <td>2021-04-05</td>\n",
       "      <td>0.0</td>\n",
       "    </tr>\n",
       "    <tr>\n",
       "      <th>2516330</th>\n",
       "      <td>A002</td>\n",
       "      <td>R051</td>\n",
       "      <td>02-00-00</td>\n",
       "      <td>59 ST</td>\n",
       "      <td>NQR456W</td>\n",
       "      <td>2021-04-06</td>\n",
       "      <td>455.0</td>\n",
       "    </tr>\n",
       "    <tr>\n",
       "      <th>2516336</th>\n",
       "      <td>A002</td>\n",
       "      <td>R051</td>\n",
       "      <td>02-00-00</td>\n",
       "      <td>59 ST</td>\n",
       "      <td>NQR456W</td>\n",
       "      <td>2021-04-07</td>\n",
       "      <td>469.0</td>\n",
       "    </tr>\n",
       "    <tr>\n",
       "      <th>2516342</th>\n",
       "      <td>A002</td>\n",
       "      <td>R051</td>\n",
       "      <td>02-00-00</td>\n",
       "      <td>59 ST</td>\n",
       "      <td>NQR456W</td>\n",
       "      <td>2021-04-08</td>\n",
       "      <td>546.0</td>\n",
       "    </tr>\n",
       "    <tr>\n",
       "      <th>2516348</th>\n",
       "      <td>A002</td>\n",
       "      <td>R051</td>\n",
       "      <td>02-00-00</td>\n",
       "      <td>59 ST</td>\n",
       "      <td>NQR456W</td>\n",
       "      <td>2021-04-09</td>\n",
       "      <td>512.0</td>\n",
       "    </tr>\n",
       "    <tr>\n",
       "      <th>2306621</th>\n",
       "      <td>A002</td>\n",
       "      <td>R051</td>\n",
       "      <td>02-00-00</td>\n",
       "      <td>59 ST</td>\n",
       "      <td>NQR456W</td>\n",
       "      <td>2021-04-10</td>\n",
       "      <td>528.0</td>\n",
       "    </tr>\n",
       "    <tr>\n",
       "      <th>2306627</th>\n",
       "      <td>A002</td>\n",
       "      <td>R051</td>\n",
       "      <td>02-00-00</td>\n",
       "      <td>59 ST</td>\n",
       "      <td>NQR456W</td>\n",
       "      <td>2021-04-11</td>\n",
       "      <td>340.0</td>\n",
       "    </tr>\n",
       "    <tr>\n",
       "      <th>2306633</th>\n",
       "      <td>A002</td>\n",
       "      <td>R051</td>\n",
       "      <td>02-00-00</td>\n",
       "      <td>59 ST</td>\n",
       "      <td>NQR456W</td>\n",
       "      <td>2021-04-12</td>\n",
       "      <td>199.0</td>\n",
       "    </tr>\n",
       "    <tr>\n",
       "      <th>2306639</th>\n",
       "      <td>A002</td>\n",
       "      <td>R051</td>\n",
       "      <td>02-00-00</td>\n",
       "      <td>59 ST</td>\n",
       "      <td>NQR456W</td>\n",
       "      <td>2021-04-13</td>\n",
       "      <td>520.0</td>\n",
       "    </tr>\n",
       "    <tr>\n",
       "      <th>2306645</th>\n",
       "      <td>A002</td>\n",
       "      <td>R051</td>\n",
       "      <td>02-00-00</td>\n",
       "      <td>59 ST</td>\n",
       "      <td>NQR456W</td>\n",
       "      <td>2021-04-14</td>\n",
       "      <td>540.0</td>\n",
       "    </tr>\n",
       "    <tr>\n",
       "      <th>2306651</th>\n",
       "      <td>A002</td>\n",
       "      <td>R051</td>\n",
       "      <td>02-00-00</td>\n",
       "      <td>59 ST</td>\n",
       "      <td>NQR456W</td>\n",
       "      <td>2021-04-15</td>\n",
       "      <td>579.0</td>\n",
       "    </tr>\n",
       "  </tbody>\n",
       "</table>\n",
       "</div>"
      ],
      "text/plain": [
       "          C/A  UNIT       SCP STATION LINENAME  DATE_TIME  DAILY_ENT\n",
       "2725878  A002  R051  02-00-00   59 ST  NQR456W 2021-03-27        NaN\n",
       "2725884  A002  R051  02-00-00   59 ST  NQR456W 2021-03-28        0.0\n",
       "2725890  A002  R051  02-00-00   59 ST  NQR456W 2021-03-29      192.0\n",
       "2725896  A002  R051  02-00-00   59 ST  NQR456W 2021-03-30      534.0\n",
       "2725902  A002  R051  02-00-00   59 ST  NQR456W 2021-03-31      546.0\n",
       "2725908  A002  R051  02-00-00   59 ST  NQR456W 2021-04-01      262.0\n",
       "2725914  A002  R051  02-00-00   59 ST  NQR456W 2021-04-02        0.0\n",
       "2516312  A002  R051  02-00-00   59 ST  NQR456W 2021-04-03        0.0\n",
       "2516318  A002  R051  02-00-00   59 ST  NQR456W 2021-04-04        0.0\n",
       "2516324  A002  R051  02-00-00   59 ST  NQR456W 2021-04-05        0.0\n",
       "2516330  A002  R051  02-00-00   59 ST  NQR456W 2021-04-06      455.0\n",
       "2516336  A002  R051  02-00-00   59 ST  NQR456W 2021-04-07      469.0\n",
       "2516342  A002  R051  02-00-00   59 ST  NQR456W 2021-04-08      546.0\n",
       "2516348  A002  R051  02-00-00   59 ST  NQR456W 2021-04-09      512.0\n",
       "2306621  A002  R051  02-00-00   59 ST  NQR456W 2021-04-10      528.0\n",
       "2306627  A002  R051  02-00-00   59 ST  NQR456W 2021-04-11      340.0\n",
       "2306633  A002  R051  02-00-00   59 ST  NQR456W 2021-04-12      199.0\n",
       "2306639  A002  R051  02-00-00   59 ST  NQR456W 2021-04-13      520.0\n",
       "2306645  A002  R051  02-00-00   59 ST  NQR456W 2021-04-14      540.0\n",
       "2306651  A002  R051  02-00-00   59 ST  NQR456W 2021-04-15      579.0"
      ]
     },
     "execution_count": 22,
     "metadata": {},
     "output_type": "execute_result"
    }
   ],
   "source": [
    "mta_final = mta_daily.drop(['DIVISION','ENTRIES','PREV_DATE','PREV_ENTRIES'], axis=1)\n",
    "mta_final.head(20)"
   ]
  },
  {
   "cell_type": "code",
   "execution_count": 23,
   "id": "2f6a5546",
   "metadata": {},
   "outputs": [],
   "source": [
    "mta_final = mta_final.dropna(subset=['DAILY_ENT'])\n",
    "#drop empty daily count rows"
   ]
  },
  {
   "cell_type": "code",
   "execution_count": 24,
   "id": "3355a0f8",
   "metadata": {},
   "outputs": [
    {
     "data": {
      "text/html": [
       "<div>\n",
       "<style scoped>\n",
       "    .dataframe tbody tr th:only-of-type {\n",
       "        vertical-align: middle;\n",
       "    }\n",
       "\n",
       "    .dataframe tbody tr th {\n",
       "        vertical-align: top;\n",
       "    }\n",
       "\n",
       "    .dataframe thead th {\n",
       "        text-align: right;\n",
       "    }\n",
       "</style>\n",
       "<table border=\"1\" class=\"dataframe\">\n",
       "  <thead>\n",
       "    <tr style=\"text-align: right;\">\n",
       "      <th></th>\n",
       "      <th>STATION</th>\n",
       "      <th>DATE_TIME</th>\n",
       "      <th>DAILY_ENT</th>\n",
       "    </tr>\n",
       "  </thead>\n",
       "  <tbody>\n",
       "    <tr>\n",
       "      <th>0</th>\n",
       "      <td>1 AV</td>\n",
       "      <td>2021-03-28</td>\n",
       "      <td>5499.0</td>\n",
       "    </tr>\n",
       "    <tr>\n",
       "      <th>1</th>\n",
       "      <td>1 AV</td>\n",
       "      <td>2021-03-29</td>\n",
       "      <td>3347.0</td>\n",
       "    </tr>\n",
       "    <tr>\n",
       "      <th>2</th>\n",
       "      <td>1 AV</td>\n",
       "      <td>2021-03-30</td>\n",
       "      <td>5949.0</td>\n",
       "    </tr>\n",
       "    <tr>\n",
       "      <th>3</th>\n",
       "      <td>1 AV</td>\n",
       "      <td>2021-03-31</td>\n",
       "      <td>6741.0</td>\n",
       "    </tr>\n",
       "    <tr>\n",
       "      <th>4</th>\n",
       "      <td>1 AV</td>\n",
       "      <td>2021-04-01</td>\n",
       "      <td>6438.0</td>\n",
       "    </tr>\n",
       "  </tbody>\n",
       "</table>\n",
       "</div>"
      ],
      "text/plain": [
       "  STATION  DATE_TIME  DAILY_ENT\n",
       "0    1 AV 2021-03-28     5499.0\n",
       "1    1 AV 2021-03-29     3347.0\n",
       "2    1 AV 2021-03-30     5949.0\n",
       "3    1 AV 2021-03-31     6741.0\n",
       "4    1 AV 2021-04-01     6438.0"
      ]
     },
     "execution_count": 24,
     "metadata": {},
     "output_type": "execute_result"
    }
   ],
   "source": [
    "'''get station total by summing all the turnstyles'''\n",
    "mta_final = mta_final.groupby(['STATION', 'DATE_TIME'])['DAILY_ENT'].sum().reset_index()\n",
    "mta_final.head()"
   ]
  },
  {
   "cell_type": "code",
   "execution_count": 25,
   "id": "19bfada7",
   "metadata": {},
   "outputs": [
    {
     "name": "stdout",
     "output_type": "stream",
     "text": [
      "<class 'pandas.core.frame.DataFrame'>\n",
      "Int64Index: 7480 entries, 102 to 36696\n",
      "Data columns (total 3 columns):\n",
      " #   Column     Non-Null Count  Dtype         \n",
      "---  ------     --------------  -----         \n",
      " 0   STATION    7480 non-null   object        \n",
      " 1   DATE_TIME  7480 non-null   datetime64[ns]\n",
      " 2   DAILY_ENT  7480 non-null   float64       \n",
      "dtypes: datetime64[ns](1), float64(1), object(1)\n",
      "memory usage: 233.8+ KB\n"
     ]
    }
   ],
   "source": [
    "'''create 4 separate dataframes, one for each month of data'''\n",
    "jan_mask = mta_final.DATE_TIME.dt.month == 1\n",
    "apr_mask = mta_final.DATE_TIME.dt.month == 4\n",
    "jul_mask = mta_final.DATE_TIME.dt.month == 7\n",
    "oct_mask = mta_final.DATE_TIME.dt.month == 10\n",
    "\n",
    "mta_jan = mta_final[jan_mask]\n",
    "mta_apr = mta_final[apr_mask]\n",
    "mta_jul = mta_final[jul_mask]\n",
    "mta_oct = mta_final[oct_mask]\n",
    "\n",
    "mta_jan.info()\n"
   ]
  },
  {
   "cell_type": "code",
   "execution_count": 26,
   "id": "05e03c92",
   "metadata": {},
   "outputs": [
    {
     "name": "stdout",
     "output_type": "stream",
     "text": [
      "<class 'pandas.core.frame.DataFrame'>\n",
      "RangeIndex: 198 entries, 0 to 197\n",
      "Data columns (total 2 columns):\n",
      " #   Column     Non-Null Count  Dtype  \n",
      "---  ------     --------------  -----  \n",
      " 0   STATION    198 non-null    object \n",
      " 1   DAILY_ENT  198 non-null    float64\n",
      "dtypes: float64(1), object(1)\n",
      "memory usage: 3.2+ KB\n"
     ]
    }
   ],
   "source": [
    "mta_jan_tot = (mta_jan.groupby('STATION')[['DAILY_ENT']].sum()\n",
    "               .sort_values(by=['DAILY_ENT'], ascending = False)\n",
    "               .reset_index())\n",
    "mta_jan_tot.info()"
   ]
  },
  {
   "cell_type": "code",
   "execution_count": 27,
   "id": "cf2a3ffa",
   "metadata": {},
   "outputs": [
    {
     "data": {
      "text/html": [
       "<div>\n",
       "<style scoped>\n",
       "    .dataframe tbody tr th:only-of-type {\n",
       "        vertical-align: middle;\n",
       "    }\n",
       "\n",
       "    .dataframe tbody tr th {\n",
       "        vertical-align: top;\n",
       "    }\n",
       "\n",
       "    .dataframe thead th {\n",
       "        text-align: right;\n",
       "    }\n",
       "</style>\n",
       "<table border=\"1\" class=\"dataframe\">\n",
       "  <thead>\n",
       "    <tr style=\"text-align: right;\">\n",
       "      <th></th>\n",
       "      <th>STATION</th>\n",
       "      <th>DAILY_ENT</th>\n",
       "    </tr>\n",
       "  </thead>\n",
       "  <tbody>\n",
       "    <tr>\n",
       "      <th>0</th>\n",
       "      <td>PATH NEW WTC</td>\n",
       "      <td>526615.0</td>\n",
       "    </tr>\n",
       "    <tr>\n",
       "      <th>1</th>\n",
       "      <td>14 ST-UNION SQ</td>\n",
       "      <td>506592.0</td>\n",
       "    </tr>\n",
       "    <tr>\n",
       "      <th>2</th>\n",
       "      <td>CANAL ST</td>\n",
       "      <td>460873.0</td>\n",
       "    </tr>\n",
       "    <tr>\n",
       "      <th>3</th>\n",
       "      <td>96 ST</td>\n",
       "      <td>376482.0</td>\n",
       "    </tr>\n",
       "    <tr>\n",
       "      <th>4</th>\n",
       "      <td>125 ST</td>\n",
       "      <td>311902.0</td>\n",
       "    </tr>\n",
       "    <tr>\n",
       "      <th>5</th>\n",
       "      <td>GRD CNTRL-42 ST</td>\n",
       "      <td>278546.0</td>\n",
       "    </tr>\n",
       "    <tr>\n",
       "      <th>6</th>\n",
       "      <td>FULTON ST</td>\n",
       "      <td>260015.0</td>\n",
       "    </tr>\n",
       "    <tr>\n",
       "      <th>7</th>\n",
       "      <td>116 ST</td>\n",
       "      <td>249718.0</td>\n",
       "    </tr>\n",
       "    <tr>\n",
       "      <th>8</th>\n",
       "      <td>72 ST</td>\n",
       "      <td>234726.0</td>\n",
       "    </tr>\n",
       "    <tr>\n",
       "      <th>9</th>\n",
       "      <td>JOURNAL SQUARE</td>\n",
       "      <td>222326.0</td>\n",
       "    </tr>\n",
       "  </tbody>\n",
       "</table>\n",
       "</div>"
      ],
      "text/plain": [
       "           STATION  DAILY_ENT\n",
       "0     PATH NEW WTC   526615.0\n",
       "1   14 ST-UNION SQ   506592.0\n",
       "2         CANAL ST   460873.0\n",
       "3            96 ST   376482.0\n",
       "4           125 ST   311902.0\n",
       "5  GRD CNTRL-42 ST   278546.0\n",
       "6        FULTON ST   260015.0\n",
       "7           116 ST   249718.0\n",
       "8            72 ST   234726.0\n",
       "9   JOURNAL SQUARE   222326.0"
      ]
     },
     "execution_count": 27,
     "metadata": {},
     "output_type": "execute_result"
    }
   ],
   "source": [
    "mta_jan_tot.drop(mta_jan_tot.index[10:], inplace = True)\n",
    "mta_jan_tot.head(10)"
   ]
  },
  {
   "cell_type": "code",
   "execution_count": 28,
   "id": "061e97eb",
   "metadata": {},
   "outputs": [],
   "source": [
    "import matplotlib.pyplot as plt"
   ]
  },
  {
   "cell_type": "code",
   "execution_count": 29,
   "id": "d0379a63",
   "metadata": {},
   "outputs": [],
   "source": [
    "sm_fnt = 10\n",
    "md_fnt = 12\n",
    "bg_fnt = 20\n",
    "\n",
    "plt.rc('font', size = sm_fnt)\n",
    "plt.rc('axes', titlesize = sm_fnt)\n",
    "plt.rc('axes', labelsize = md_fnt)\n",
    "plt.rc('figure', titlesize = bg_fnt)"
   ]
  },
  {
   "cell_type": "code",
   "execution_count": 30,
   "id": "ec6e6cbb",
   "metadata": {},
   "outputs": [
    {
     "data": {
      "image/png": "[encoded data removed]",
      "text/plain": [
       "<Figure size 1008x720 with 1 Axes>"
      ]
     },
     "metadata": {
      "needs_background": "light"
     },
     "output_type": "display_data"
    }
   ],
   "source": [
    "plt.figure(figsize = (14,10))\n",
    "plt.barh(mta_jan_tot['STATION'], mta_jan_tot['DAILY_ENT'])\n",
    "plt.title('Top 10 Trafficked MTA Stations JAN21', fontsize = 20)\n",
    "plt.xlabel('MTA Stations')\n",
    "plt.ylabel('Millions of Entries')\n",
    "plt.savefig('JAN_MTA_traffic.jpg')"
   ]
  },
  {
   "cell_type": "code",
   "execution_count": 31,
   "id": "a709d644",
   "metadata": {},
   "outputs": [
    {
     "data": {
      "image/png": "[encoded data removed]",
      "text/plain": [
       "<Figure size 1008x720 with 1 Axes>"
      ]
     },
     "metadata": {
      "needs_background": "light"
     },
     "output_type": "display_data"
    }
   ],
   "source": [
    "mta_apr_tot = (mta_apr.groupby('STATION')[['DAILY_ENT']].sum()\n",
    "               .sort_values(by=['DAILY_ENT'], ascending = False)\n",
    "               .reset_index())\n",
    "mta_apr_tot.drop(mta_apr_tot.index[10:], inplace = True)\n",
    "\n",
    "plt.figure(figsize = (14,10))\n",
    "plt.barh(mta_apr_tot['STATION'], mta_apr_tot['DAILY_ENT'])\n",
    "plt.title('Top 10 Trafficked MTA Stations APR21', fontsize = 20)\n",
    "plt.ylabel('MTA Stations')\n",
    "plt.xlabel('Millions of Entries')\n",
    "plt.savefig('APR_MTA_traffic.jpg')"
   ]
  },
  {
   "cell_type": "code",
   "execution_count": 32,
   "id": "18be4bce",
   "metadata": {},
   "outputs": [
    {
     "data": {
      "image/png": "[encoded data removed]",
      "text/plain": [
       "<Figure size 1008x720 with 1 Axes>"
      ]
     },
     "metadata": {
      "needs_background": "light"
     },
     "output_type": "display_data"
    }
   ],
   "source": [
    "mta_jul_tot = (mta_jul.groupby('STATION')[['DAILY_ENT']].sum()\n",
    "               .sort_values(by=['DAILY_ENT'], ascending = False)\n",
    "               .reset_index())\n",
    "mta_jul_tot.drop(mta_jul_tot.index[10:], inplace = True)\n",
    "\n",
    "\n",
    "plt.figure(figsize = (14,10))\n",
    "plt.barh(mta_jul_tot['STATION'], mta_jul_tot['DAILY_ENT'])\n",
    "plt.title('Top 10 Trafficked MTA Stations JUL21', fontsize = 20)\n",
    "plt.ylabel('MTA Stations')\n",
    "plt.xlabel('Millions of Entries')\n",
    "plt.savefig('JUL_MTA_traffic.jpg')"
   ]
  },
  {
   "cell_type": "code",
   "execution_count": 33,
   "id": "482eb49a",
   "metadata": {},
   "outputs": [
    {
     "data": {
      "image/png": "[encoded data removed]",
      "text/plain": [
       "<Figure size 1008x720 with 1 Axes>"
      ]
     },
     "metadata": {
      "needs_background": "light"
     },
     "output_type": "display_data"
    }
   ],
   "source": [
    "mta_oct_tot = (mta_oct.groupby('STATION')[['DAILY_ENT']].sum()\n",
    "               .sort_values(by=['DAILY_ENT'], ascending = False)\n",
    "               .reset_index())\n",
    "mta_oct_tot.drop(mta_oct_tot.index[10:], inplace = True)\n",
    "\n",
    "plt.figure(figsize = (14,10))\n",
    "plt.barh(mta_oct_tot['STATION'], mta_oct_tot['DAILY_ENT'])\n",
    "plt.title('Top 10 Trafficked MTA Stations OCT21', fontsize = 20)\n",
    "plt.ylabel('MTA Stations')\n",
    "plt.xlabel('Millions of Entries')\n",
    "plt.savefig('OCT_MTA_traffic.jpg')"
   ]
  },
  {
   "cell_type": "code",
   "execution_count": 53,
   "id": "914c0c78",
   "metadata": {
    "scrolled": true
   },
   "outputs": [
    {
     "data": {
      "image/png": "[encoded data removed]",
      "text/plain": [
       "<Figure size 1440x2304 with 4 Axes>"
      ]
     },
     "metadata": {
      "needs_background": "light"
     },
     "output_type": "display_data"
    }
   ],
   "source": [
    "plt.figure(figsize = (20,32))\n",
    "plt.subplot(4,1,1)\n",
    "plt.barh(mta_jan_tot['STATION'], mta_jan_tot['DAILY_ENT'])\n",
    "plt.title('Top 10 Trafficked MTA Stations JAN21', fontsize = 30)\n",
    "plt.xlabel('MTA Stations', fontsize=20)\n",
    "plt.ylabel('Millions of Entries', fontsize=20)\n",
    "plt.xticks(fontsize=15)\n",
    "plt.yticks(fontsize=15)\n",
    "\n",
    "plt.subplot(4,1,2)\n",
    "plt.barh(mta_apr_tot['STATION'], mta_apr_tot['DAILY_ENT'])\n",
    "plt.title('Top 10 Trafficked MTA Stations APR21', fontsize = 30)\n",
    "plt.xlabel('MTA Stations', fontsize=20)\n",
    "plt.ylabel('Millions of Entries', fontsize=20)\n",
    "plt.xticks(fontsize=15)\n",
    "plt.yticks(fontsize=15)\n",
    "\n",
    "plt.subplot(4,1,3)\n",
    "plt.barh(mta_jul_tot['STATION'], mta_jul_tot['DAILY_ENT'])\n",
    "plt.title('Top 10 Trafficked MTA Stations JUL21', fontsize = 30)\n",
    "plt.xlabel('MTA Stations', fontsize=20)\n",
    "plt.ylabel('Millions of Entries', fontsize=20)\n",
    "plt.xticks(fontsize=15)\n",
    "plt.yticks(fontsize=15)\n",
    "\n",
    "plt.subplot(4,1,4)\n",
    "plt.barh(mta_oct_tot['STATION'], mta_oct_tot['DAILY_ENT'])\n",
    "plt.title('Top 10 Trafficked MTA Stations OCT21', fontsize = 30)\n",
    "plt.xlabel('MTA Stations', fontsize=20)\n",
    "plt.ylabel('Millions of Entries', fontsize=20)\n",
    "plt.xticks(fontsize=15)\n",
    "plt.yticks(fontsize=15)\n",
    "\n",
    "plt.savefig('all_mta_traffic.jpg')"
   ]
  },
  {
   "cell_type": "code",
   "execution_count": 35,
   "id": "690169e6",
   "metadata": {},
   "outputs": [],
   "source": [
    "mta_jul_top3 = mta_jul_tot.drop(mta_jul_tot.index[3:], inplace = False)\n",
    "mta_oct_top3 = mta_oct_tot.drop(mta_oct_tot.index[3:], inplace = False)"
   ]
  },
  {
   "cell_type": "code",
   "execution_count": 55,
   "id": "f9791698",
   "metadata": {
    "scrolled": true
   },
   "outputs": [
    {
     "data": {
      "image/png": "[encoded data removed]",
      "text/plain": [
       "<Figure size 1440x1296 with 2 Axes>"
      ]
     },
     "metadata": {
      "needs_background": "light"
     },
     "output_type": "display_data"
    }
   ],
   "source": [
    "plt.figure(figsize = (20,18))\n",
    "\n",
    "plt.subplot(2,1,1)\n",
    "plt.barh(mta_jul_top3['STATION'], mta_jul_top3['DAILY_ENT'])\n",
    "plt.title('Top 3 Trafficked MTA Stations JUL21', fontsize = 30)\n",
    "plt.xlabel('MTA Stations', fontsize=20)\n",
    "plt.ylabel('Millions of Entries', fontsize=20)\n",
    "plt.xticks(fontsize=15)\n",
    "plt.yticks(fontsize=15)\n",
    "\n",
    "plt.subplot(2,1,2)\n",
    "plt.barh(mta_oct_top3['STATION'], mta_oct_top3['DAILY_ENT'])\n",
    "plt.title('Top 3 Trafficked MTA Stations OCT21', fontsize = 30)\n",
    "plt.xlabel('MTA Stations', fontsize=20)\n",
    "plt.ylabel('Millions of Entries', fontsize=20)\n",
    "plt.xticks(fontsize=15)\n",
    "plt.yticks(fontsize=15)\n",
    "\n",
    "plt.savefig('jul_oct_mta_traffic.jpg')"
   ]
  },
  {
   "cell_type": "code",
   "execution_count": 37,
   "id": "8c4ca6c5",
   "metadata": {},
   "outputs": [
    {
     "name": "stdout",
     "output_type": "stream",
     "text": [
      "<class 'pandas.core.frame.DataFrame'>\n",
      "RangeIndex: 194 entries, 0 to 193\n",
      "Data columns (total 3 columns):\n",
      " #   Column   Non-Null Count  Dtype \n",
      "---  ------   --------------  ----- \n",
      " 0   Date     194 non-null    object\n",
      " 1   Subject  194 non-null    object\n",
      " 2   Message  194 non-null    object\n",
      "dtypes: object(3)\n",
      "memory usage: 4.7+ KB\n"
     ]
    }
   ],
   "source": [
    "mta_maint_df = pd.read_csv('MTA Maintenance Logs.csv')\n",
    "mta_maint_df.info()"
   ]
  },
  {
   "cell_type": "code",
   "execution_count": 38,
   "id": "3fe0e267",
   "metadata": {},
   "outputs": [
    {
     "name": "stdout",
     "output_type": "stream",
     "text": [
      "<class 'pandas.core.frame.DataFrame'>\n",
      "RangeIndex: 194 entries, 0 to 193\n",
      "Data columns (total 3 columns):\n",
      " #   Column   Non-Null Count  Dtype         \n",
      "---  ------   --------------  -----         \n",
      " 0   Date     194 non-null    datetime64[ns]\n",
      " 1   Subject  194 non-null    object        \n",
      " 2   Message  194 non-null    object        \n",
      "dtypes: datetime64[ns](1), object(2)\n",
      "memory usage: 4.7+ KB\n"
     ]
    }
   ],
   "source": [
    "mta_maint_df['Date'] = pd.to_datetime(mta_maint_df['Date'], infer_datetime_format = True)\n",
    "mta_maint_df.info()"
   ]
  },
  {
   "cell_type": "code",
   "execution_count": 39,
   "id": "9d2fd171",
   "metadata": {},
   "outputs": [
    {
     "name": "stdout",
     "output_type": "stream",
     "text": [
      "2021-10-18 00:00:00\n",
      "2021-10-29 00:00:00\n"
     ]
    }
   ],
   "source": [
    "print(mta_maint_df.Date.min())\n",
    "print(mta_maint_df.Date.max())"
   ]
  },
  {
   "cell_type": "code",
   "execution_count": 40,
   "id": "cadd2173",
   "metadata": {},
   "outputs": [
    {
     "name": "stdout",
     "output_type": "stream",
     "text": [
      "[0, 6, 0]\n"
     ]
    }
   ],
   "source": [
    "'''34th ST-PENN STA, 34TH ST-HERALD SQ, PATH NEW WTC, top 3 for JUL & OCT'''\n",
    "sta1 = mta_maint_df.loc[mta_maint_df['Message'].str.contains('PENN STA', case=False)]\n",
    "sta2 = mta_maint_df.loc[mta_maint_df['Message'].str.contains('HERALD SQ', case=False)]\n",
    "sta3 = mta_maint_df.loc[mta_maint_df['Message'].str.contains('PATH NEW WTC', case=False)]\n",
    "sta_lst = [sta1['Date'].count(), sta2['Date'].count(), sta3['Date'].count()]\n",
    "print(sta_lst)\n",
    "nam_lst = ['34th ST-PENN STA', '34TH ST-HERALD SQ', 'PATH NEW WTC']"
   ]
  },
  {
   "cell_type": "code",
   "execution_count": 49,
   "id": "522ed298",
   "metadata": {},
   "outputs": [
    {
     "data": {
      "image/png": "[encoded data removed]",
      "text/plain": [
       "<Figure size 1008x720 with 1 Axes>"
      ]
     },
     "metadata": {
      "needs_background": "light"
     },
     "output_type": "display_data"
    }
   ],
   "source": [
    "plt.figure(figsize = (14,10))\n",
    "plt.bar(nam_lst, sta_lst)\n",
    "plt.title('Maintenance Logs for Top 3 Stations, 18-29OCT21', fontsize = 40)\n",
    "plt.xlabel('MTA Stations', fontsize = 20)\n",
    "plt.xticks(fontsize=15)\n",
    "plt.ylabel('Maintenance Logs', fontsize = 20)\n",
    "plt.yticks(fontsize=15)\n",
    "plt.savefig('mta_maint_log.jpg')"
   ]
  },
  {
   "cell_type": "code",
   "execution_count": 43,
   "id": "d2c3a254",
   "metadata": {},
   "outputs": [
    {
     "name": "stdout",
     "output_type": "stream",
     "text": [
      "<class 'pandas.core.frame.DataFrame'>\n",
      "RangeIndex: 232 entries, 0 to 231\n",
      "Data columns (total 2 columns):\n",
      " #   Column     Non-Null Count  Dtype  \n",
      "---  ------     --------------  -----  \n",
      " 0   STATION    232 non-null    object \n",
      " 1   DAILY_ENT  232 non-null    float64\n",
      "dtypes: float64(1), object(1)\n",
      "memory usage: 3.8+ KB\n"
     ]
    }
   ],
   "source": [
    "'''histogram of all station and their ridership in october'''\n",
    "\n",
    "mta_oct_tot_v2 = (mta_oct.groupby('STATION')[['DAILY_ENT']].sum()\n",
    "               .sort_values(by=['DAILY_ENT'], ascending = False)\n",
    "               .reset_index())\n",
    "mta_oct_tot_v2.info()"
   ]
  },
  {
   "cell_type": "code",
   "execution_count": 45,
   "id": "d561faf3",
   "metadata": {},
   "outputs": [
    {
     "data": {
      "image/png": "[encoded data removed]",
      "text/plain": [
       "<Figure size 432x288 with 1 Axes>"
      ]
     },
     "metadata": {
      "needs_background": "light"
     },
     "output_type": "display_data"
    }
   ],
   "source": [
    "\n",
    "plt.hist(mta_oct_tot_v2['DAILY_ENT'])\n",
    "plt.title('Spread of Station Entry Count for October', fontsize = 20)\n",
    "plt.xlabel('October Entry Count')\n",
    "plt.ylabel('Num of Stations')\n",
    "plt.savefig('station_entry_count_histo.jpg')"
   ]
  },
  {
   "cell_type": "code",
   "execution_count": 46,
   "id": "c283cea0",
   "metadata": {},
   "outputs": [
    {
     "data": {
      "text/html": [
       "<div>\n",
       "<style scoped>\n",
       "    .dataframe tbody tr th:only-of-type {\n",
       "        vertical-align: middle;\n",
       "    }\n",
       "\n",
       "    .dataframe tbody tr th {\n",
       "        vertical-align: top;\n",
       "    }\n",
       "\n",
       "    .dataframe thead th {\n",
       "        text-align: right;\n",
       "    }\n",
       "</style>\n",
       "<table border=\"1\" class=\"dataframe\">\n",
       "  <thead>\n",
       "    <tr style=\"text-align: right;\">\n",
       "      <th></th>\n",
       "      <th>DAILY_ENT</th>\n",
       "    </tr>\n",
       "  </thead>\n",
       "  <tbody>\n",
       "    <tr>\n",
       "      <th>count</th>\n",
       "      <td>2.320000e+02</td>\n",
       "    </tr>\n",
       "    <tr>\n",
       "      <th>mean</th>\n",
       "      <td>1.829200e+05</td>\n",
       "    </tr>\n",
       "    <tr>\n",
       "      <th>std</th>\n",
       "      <td>1.985280e+05</td>\n",
       "    </tr>\n",
       "    <tr>\n",
       "      <th>min</th>\n",
       "      <td>0.000000e+00</td>\n",
       "    </tr>\n",
       "    <tr>\n",
       "      <th>25%</th>\n",
       "      <td>6.817725e+04</td>\n",
       "    </tr>\n",
       "    <tr>\n",
       "      <th>50%</th>\n",
       "      <td>1.090085e+05</td>\n",
       "    </tr>\n",
       "    <tr>\n",
       "      <th>75%</th>\n",
       "      <td>1.955802e+05</td>\n",
       "    </tr>\n",
       "    <tr>\n",
       "      <th>max</th>\n",
       "      <td>1.235864e+06</td>\n",
       "    </tr>\n",
       "  </tbody>\n",
       "</table>\n",
       "</div>"
      ],
      "text/plain": [
       "          DAILY_ENT\n",
       "count  2.320000e+02\n",
       "mean   1.829200e+05\n",
       "std    1.985280e+05\n",
       "min    0.000000e+00\n",
       "25%    6.817725e+04\n",
       "50%    1.090085e+05\n",
       "75%    1.955802e+05\n",
       "max    1.235864e+06"
      ]
     },
     "execution_count": 46,
     "metadata": {},
     "output_type": "execute_result"
    }
   ],
   "source": [
    "mta_oct_tot_v2.describe()"
   ]
  },
  {
   "cell_type": "code",
   "execution_count": 47,
   "id": "7e12243d",
   "metadata": {},
   "outputs": [
    {
     "name": "stdout",
     "output_type": "stream",
     "text": [
      "1235864.0\n",
      "0.0\n"
     ]
    }
   ],
   "source": [
    "print(mta_oct_tot_v2.DAILY_ENT.max())\n",
    "print(mta_oct_tot_v2.DAILY_ENT.min())"
   ]
  },
  {
   "cell_type": "code",
   "execution_count": null,
   "id": "e6cf83a3",
   "metadata": {},
   "outputs": [],
   "source": []
  }
 ],
 "metadata": {
  "kernelspec": {
   "display_name": "Python 3 (ipykernel)",
   "language": "python",
   "name": "python3"
  },
  "language_info": {
   "codemirror_mode": {
    "name": "ipython",
    "version": 3
   },
   "file_extension": ".py",
   "mimetype": "text/x-python",
   "name": "python",
   "nbconvert_exporter": "python",
   "pygments_lexer": "ipython3",
   "version": "3.9.7"
  }
 },
 "nbformat": 4,
 "nbformat_minor": 5
}
